{
  "cells": [
    {
      "cell_type": "markdown",
      "metadata": {
        "id": "6biuJl8RY7mX"
      },
      "source": [
        "**Author:**\n",
        "Jean Paul Azzopardi\n",
        "\n",
        "**Dates:**\n",
        "March - November 2023\n",
        "\n",
        "# **Instructions:**\n",
        "\n",
        "The cells below contain code that connects to the MassCourt MySQL database.\n",
        "\n",
        "The tables should be visible as is. If not, navigate to 'Runtime' above and press 'Run all.'\n",
        "\n",
        "The notebook will execute accordingly - **it will take some time (~5 to 10 minutes)**. After the intial run, the data will be cached so it won't take as long to load again.\n",
        "\n",
        "Once done, you will be able to see interactive tables (if not available click the magic wand next to the table and it will make it interactive). Please note the tables are limited to 200,000 rows, even though queries may intend to return more. You can filter and order as you would in an Excel file.\n",
        "\n"
      ]
    },
    {
      "cell_type": "code",
      "source": [
        "from google.colab import drive\n",
        "drive.mount('/content/drive')"
      ],
      "metadata": {
        "colab": {
          "base_uri": "https://localhost:8080/"
        },
        "id": "pEtgvTZzrnIF",
        "outputId": "42c1e7f0-7091-46ac-d180-db544f2788e9"
      },
      "execution_count": null,
      "outputs": [
        {
          "output_type": "stream",
          "name": "stdout",
          "text": [
            "Mounted at /content/drive\n"
          ]
        }
      ]
    },
    {
      "cell_type": "code",
      "execution_count": null,
      "metadata": {
        "colab": {
          "base_uri": "https://localhost:8080/"
        },
        "id": "Aldn7BDaY2vs",
        "outputId": "d8ee48e7-6100-4bbd-d333-d4743e6e48e6"
      },
      "outputs": [
        {
          "output_type": "stream",
          "name": "stdout",
          "text": [
            "Collecting pymysql\n",
            "  Downloading PyMySQL-1.1.0-py3-none-any.whl (44 kB)\n",
            "\u001b[?25l     \u001b[90m━━━━━━━━━━━━━━━━━━━━━━━━━━━━━━━━━━━━━━━━\u001b[0m \u001b[32m0.0/44.8 kB\u001b[0m \u001b[31m?\u001b[0m eta \u001b[36m-:--:--\u001b[0m\r\u001b[2K     \u001b[90m━━━━━━━━━━━━━━━━━━━━━━━━━━━━━━━━━━━━━━━━\u001b[0m \u001b[32m44.8/44.8 kB\u001b[0m \u001b[31m1.2 MB/s\u001b[0m eta \u001b[36m0:00:00\u001b[0m\n",
            "\u001b[?25hInstalling collected packages: pymysql\n",
            "Successfully installed pymysql-1.1.0\n"
          ]
        }
      ],
      "source": [
        "!pip install pymysql"
      ]
    },
    {
      "cell_type": "code",
      "execution_count": null,
      "metadata": {
        "id": "RJ467C7MHDk2"
      },
      "outputs": [],
      "source": [
        "import pymysql\n",
        "import pandas as pd\n",
        "import numpy as np\n",
        "from google.colab import data_table"
      ]
    },
    {
      "cell_type": "code",
      "execution_count": null,
      "metadata": {
        "id": "nweVtudpbJj5"
      },
      "outputs": [],
      "source": [
        "data_table.enable_dataframe_formatter()"
      ]
    },
    {
      "cell_type": "code",
      "execution_count": null,
      "metadata": {
        "id": "ouvF8qcaHURQ"
      },
      "outputs": [],
      "source": [
        "#Connect to MySQL database\n",
        "\n",
        "cnx = pymysql.connect(user='buspark', password='U@5p1r3!',\n",
        "                              host='masscourtsplus.org',\n",
        "                              database='wp_courtdocs') #REMEMBER LOGIN\n",
        "\n",
        "\n",
        "cursor = cnx.cursor()\n",
        "# more info here: https://docs.google.com/document/d/1aZKF0X7HjcXUYurD8uQYDpgo9wQdeJH4CMviBJeTYVc/edit#"
      ]
    },
    {
      "cell_type": "code",
      "execution_count": null,
      "metadata": {
        "id": "BmXvfHN6n9u1"
      },
      "outputs": [],
      "source": [
        "\n",
        "query =  \"\"\"\n",
        "DESCRIBE cdocs_case_action_index;|\n",
        "\n",
        "\"\"\""
      ]
    },
    {
      "cell_type": "markdown",
      "metadata": {
        "id": "IJQ_cNfpBmAu"
      },
      "source": [
        "# **TABLE 9: CASELOAD PER COURT, Grouped By Year**"
      ]
    },
    {
      "cell_type": "code",
      "execution_count": null,
      "metadata": {
        "colab": {
          "base_uri": "https://localhost:8080/",
          "height": 374
        },
        "id": "WIO0swX0CLdQ",
        "outputId": "1cde4a51-6a8c-44be-e6b0-d02129b82170"
      },
      "outputs": [
        {
          "output_type": "stream",
          "name": "stdout",
          "text": [
            "CPU times: user 3 µs, sys: 0 ns, total: 3 µs\n",
            "Wall time: 9.06 µs\n"
          ]
        },
        {
          "output_type": "error",
          "ename": "OperationalError",
          "evalue": "(2013, 'Lost connection to MySQL server during query')",
          "traceback": [
            "\u001b[0;31m---------------------------------------------------------------------------\u001b[0m",
            "\u001b[0;31mOperationalError\u001b[0m                          Traceback (most recent call last)",
            "\u001b[0;32m<ipython-input-18-754476226403>\u001b[0m in \u001b[0;36m<cell line: 27>\u001b[0;34m()\u001b[0m\n\u001b[1;32m     25\u001b[0m \u001b[0;34m\u001b[0m\u001b[0m\n\u001b[1;32m     26\u001b[0m \u001b[0mget_ipython\u001b[0m\u001b[0;34m(\u001b[0m\u001b[0;34m)\u001b[0m\u001b[0;34m.\u001b[0m\u001b[0mrun_line_magic\u001b[0m\u001b[0;34m(\u001b[0m\u001b[0;34m'time'\u001b[0m\u001b[0;34m,\u001b[0m \u001b[0;34m''\u001b[0m\u001b[0;34m)\u001b[0m\u001b[0;34m\u001b[0m\u001b[0;34m\u001b[0m\u001b[0m\n\u001b[0;32m---> 27\u001b[0;31m \u001b[0mcursor\u001b[0m\u001b[0;34m.\u001b[0m\u001b[0mexecute\u001b[0m\u001b[0;34m(\u001b[0m\u001b[0mquery\u001b[0m\u001b[0;34m)\u001b[0m \u001b[0;31m# executing query\u001b[0m\u001b[0;34m\u001b[0m\u001b[0;34m\u001b[0m\u001b[0m\n\u001b[0m\u001b[1;32m     28\u001b[0m \u001b[0;34m\u001b[0m\u001b[0m\n\u001b[1;32m     29\u001b[0m \u001b[0mresults\u001b[0m \u001b[0;34m=\u001b[0m \u001b[0mcursor\u001b[0m\u001b[0;34m.\u001b[0m\u001b[0mfetchall\u001b[0m\u001b[0;34m(\u001b[0m\u001b[0;34m)\u001b[0m \u001b[0;31m# fetching result\u001b[0m\u001b[0;34m\u001b[0m\u001b[0;34m\u001b[0m\u001b[0m\n",
            "\u001b[0;32m/usr/local/lib/python3.10/dist-packages/pymysql/cursors.py\u001b[0m in \u001b[0;36mexecute\u001b[0;34m(self, query, args)\u001b[0m\n\u001b[1;32m    151\u001b[0m         \u001b[0mquery\u001b[0m \u001b[0;34m=\u001b[0m \u001b[0mself\u001b[0m\u001b[0;34m.\u001b[0m\u001b[0mmogrify\u001b[0m\u001b[0;34m(\u001b[0m\u001b[0mquery\u001b[0m\u001b[0;34m,\u001b[0m \u001b[0margs\u001b[0m\u001b[0;34m)\u001b[0m\u001b[0;34m\u001b[0m\u001b[0;34m\u001b[0m\u001b[0m\n\u001b[1;32m    152\u001b[0m \u001b[0;34m\u001b[0m\u001b[0m\n\u001b[0;32m--> 153\u001b[0;31m         \u001b[0mresult\u001b[0m \u001b[0;34m=\u001b[0m \u001b[0mself\u001b[0m\u001b[0;34m.\u001b[0m\u001b[0m_query\u001b[0m\u001b[0;34m(\u001b[0m\u001b[0mquery\u001b[0m\u001b[0;34m)\u001b[0m\u001b[0;34m\u001b[0m\u001b[0;34m\u001b[0m\u001b[0m\n\u001b[0m\u001b[1;32m    154\u001b[0m         \u001b[0mself\u001b[0m\u001b[0;34m.\u001b[0m\u001b[0m_executed\u001b[0m \u001b[0;34m=\u001b[0m \u001b[0mquery\u001b[0m\u001b[0;34m\u001b[0m\u001b[0;34m\u001b[0m\u001b[0m\n\u001b[1;32m    155\u001b[0m         \u001b[0;32mreturn\u001b[0m \u001b[0mresult\u001b[0m\u001b[0;34m\u001b[0m\u001b[0;34m\u001b[0m\u001b[0m\n",
            "\u001b[0;32m/usr/local/lib/python3.10/dist-packages/pymysql/cursors.py\u001b[0m in \u001b[0;36m_query\u001b[0;34m(self, q)\u001b[0m\n\u001b[1;32m    320\u001b[0m         \u001b[0mconn\u001b[0m \u001b[0;34m=\u001b[0m \u001b[0mself\u001b[0m\u001b[0;34m.\u001b[0m\u001b[0m_get_db\u001b[0m\u001b[0;34m(\u001b[0m\u001b[0;34m)\u001b[0m\u001b[0;34m\u001b[0m\u001b[0;34m\u001b[0m\u001b[0m\n\u001b[1;32m    321\u001b[0m         \u001b[0mself\u001b[0m\u001b[0;34m.\u001b[0m\u001b[0m_clear_result\u001b[0m\u001b[0;34m(\u001b[0m\u001b[0;34m)\u001b[0m\u001b[0;34m\u001b[0m\u001b[0;34m\u001b[0m\u001b[0m\n\u001b[0;32m--> 322\u001b[0;31m         \u001b[0mconn\u001b[0m\u001b[0;34m.\u001b[0m\u001b[0mquery\u001b[0m\u001b[0;34m(\u001b[0m\u001b[0mq\u001b[0m\u001b[0;34m)\u001b[0m\u001b[0;34m\u001b[0m\u001b[0;34m\u001b[0m\u001b[0m\n\u001b[0m\u001b[1;32m    323\u001b[0m         \u001b[0mself\u001b[0m\u001b[0;34m.\u001b[0m\u001b[0m_do_get_result\u001b[0m\u001b[0;34m(\u001b[0m\u001b[0;34m)\u001b[0m\u001b[0;34m\u001b[0m\u001b[0;34m\u001b[0m\u001b[0m\n\u001b[1;32m    324\u001b[0m         \u001b[0;32mreturn\u001b[0m \u001b[0mself\u001b[0m\u001b[0;34m.\u001b[0m\u001b[0mrowcount\u001b[0m\u001b[0;34m\u001b[0m\u001b[0;34m\u001b[0m\u001b[0m\n",
            "\u001b[0;32m/usr/local/lib/python3.10/dist-packages/pymysql/connections.py\u001b[0m in \u001b[0;36mquery\u001b[0;34m(self, sql, unbuffered)\u001b[0m\n\u001b[1;32m    556\u001b[0m             \u001b[0msql\u001b[0m \u001b[0;34m=\u001b[0m \u001b[0msql\u001b[0m\u001b[0;34m.\u001b[0m\u001b[0mencode\u001b[0m\u001b[0;34m(\u001b[0m\u001b[0mself\u001b[0m\u001b[0;34m.\u001b[0m\u001b[0mencoding\u001b[0m\u001b[0;34m,\u001b[0m \u001b[0;34m\"surrogateescape\"\u001b[0m\u001b[0;34m)\u001b[0m\u001b[0;34m\u001b[0m\u001b[0;34m\u001b[0m\u001b[0m\n\u001b[1;32m    557\u001b[0m         \u001b[0mself\u001b[0m\u001b[0;34m.\u001b[0m\u001b[0m_execute_command\u001b[0m\u001b[0;34m(\u001b[0m\u001b[0mCOMMAND\u001b[0m\u001b[0;34m.\u001b[0m\u001b[0mCOM_QUERY\u001b[0m\u001b[0;34m,\u001b[0m \u001b[0msql\u001b[0m\u001b[0;34m)\u001b[0m\u001b[0;34m\u001b[0m\u001b[0;34m\u001b[0m\u001b[0m\n\u001b[0;32m--> 558\u001b[0;31m         \u001b[0mself\u001b[0m\u001b[0;34m.\u001b[0m\u001b[0m_affected_rows\u001b[0m \u001b[0;34m=\u001b[0m \u001b[0mself\u001b[0m\u001b[0;34m.\u001b[0m\u001b[0m_read_query_result\u001b[0m\u001b[0;34m(\u001b[0m\u001b[0munbuffered\u001b[0m\u001b[0;34m=\u001b[0m\u001b[0munbuffered\u001b[0m\u001b[0;34m)\u001b[0m\u001b[0;34m\u001b[0m\u001b[0;34m\u001b[0m\u001b[0m\n\u001b[0m\u001b[1;32m    559\u001b[0m         \u001b[0;32mreturn\u001b[0m \u001b[0mself\u001b[0m\u001b[0;34m.\u001b[0m\u001b[0m_affected_rows\u001b[0m\u001b[0;34m\u001b[0m\u001b[0;34m\u001b[0m\u001b[0m\n\u001b[1;32m    560\u001b[0m \u001b[0;34m\u001b[0m\u001b[0m\n",
            "\u001b[0;32m/usr/local/lib/python3.10/dist-packages/pymysql/connections.py\u001b[0m in \u001b[0;36m_read_query_result\u001b[0;34m(self, unbuffered)\u001b[0m\n\u001b[1;32m    820\u001b[0m         \u001b[0;32melse\u001b[0m\u001b[0;34m:\u001b[0m\u001b[0;34m\u001b[0m\u001b[0;34m\u001b[0m\u001b[0m\n\u001b[1;32m    821\u001b[0m             \u001b[0mresult\u001b[0m \u001b[0;34m=\u001b[0m \u001b[0mMySQLResult\u001b[0m\u001b[0;34m(\u001b[0m\u001b[0mself\u001b[0m\u001b[0;34m)\u001b[0m\u001b[0;34m\u001b[0m\u001b[0;34m\u001b[0m\u001b[0m\n\u001b[0;32m--> 822\u001b[0;31m             \u001b[0mresult\u001b[0m\u001b[0;34m.\u001b[0m\u001b[0mread\u001b[0m\u001b[0;34m(\u001b[0m\u001b[0;34m)\u001b[0m\u001b[0;34m\u001b[0m\u001b[0;34m\u001b[0m\u001b[0m\n\u001b[0m\u001b[1;32m    823\u001b[0m         \u001b[0mself\u001b[0m\u001b[0;34m.\u001b[0m\u001b[0m_result\u001b[0m \u001b[0;34m=\u001b[0m \u001b[0mresult\u001b[0m\u001b[0;34m\u001b[0m\u001b[0;34m\u001b[0m\u001b[0m\n\u001b[1;32m    824\u001b[0m         \u001b[0;32mif\u001b[0m \u001b[0mresult\u001b[0m\u001b[0;34m.\u001b[0m\u001b[0mserver_status\u001b[0m \u001b[0;32mis\u001b[0m \u001b[0;32mnot\u001b[0m \u001b[0;32mNone\u001b[0m\u001b[0;34m:\u001b[0m\u001b[0;34m\u001b[0m\u001b[0;34m\u001b[0m\u001b[0m\n",
            "\u001b[0;32m/usr/local/lib/python3.10/dist-packages/pymysql/connections.py\u001b[0m in \u001b[0;36mread\u001b[0;34m(self)\u001b[0m\n\u001b[1;32m   1198\u001b[0m     \u001b[0;32mdef\u001b[0m \u001b[0mread\u001b[0m\u001b[0;34m(\u001b[0m\u001b[0mself\u001b[0m\u001b[0;34m)\u001b[0m\u001b[0;34m:\u001b[0m\u001b[0;34m\u001b[0m\u001b[0;34m\u001b[0m\u001b[0m\n\u001b[1;32m   1199\u001b[0m         \u001b[0;32mtry\u001b[0m\u001b[0;34m:\u001b[0m\u001b[0;34m\u001b[0m\u001b[0;34m\u001b[0m\u001b[0m\n\u001b[0;32m-> 1200\u001b[0;31m             \u001b[0mfirst_packet\u001b[0m \u001b[0;34m=\u001b[0m \u001b[0mself\u001b[0m\u001b[0;34m.\u001b[0m\u001b[0mconnection\u001b[0m\u001b[0;34m.\u001b[0m\u001b[0m_read_packet\u001b[0m\u001b[0;34m(\u001b[0m\u001b[0;34m)\u001b[0m\u001b[0;34m\u001b[0m\u001b[0;34m\u001b[0m\u001b[0m\n\u001b[0m\u001b[1;32m   1201\u001b[0m \u001b[0;34m\u001b[0m\u001b[0m\n\u001b[1;32m   1202\u001b[0m             \u001b[0;32mif\u001b[0m \u001b[0mfirst_packet\u001b[0m\u001b[0;34m.\u001b[0m\u001b[0mis_ok_packet\u001b[0m\u001b[0;34m(\u001b[0m\u001b[0;34m)\u001b[0m\u001b[0;34m:\u001b[0m\u001b[0;34m\u001b[0m\u001b[0;34m\u001b[0m\u001b[0m\n",
            "\u001b[0;32m/usr/local/lib/python3.10/dist-packages/pymysql/connections.py\u001b[0m in \u001b[0;36m_read_packet\u001b[0;34m(self, packet_type)\u001b[0m\n\u001b[1;32m    737\u001b[0m         \u001b[0mbuff\u001b[0m \u001b[0;34m=\u001b[0m \u001b[0mbytearray\u001b[0m\u001b[0;34m(\u001b[0m\u001b[0;34m)\u001b[0m\u001b[0;34m\u001b[0m\u001b[0;34m\u001b[0m\u001b[0m\n\u001b[1;32m    738\u001b[0m         \u001b[0;32mwhile\u001b[0m \u001b[0;32mTrue\u001b[0m\u001b[0;34m:\u001b[0m\u001b[0;34m\u001b[0m\u001b[0;34m\u001b[0m\u001b[0m\n\u001b[0;32m--> 739\u001b[0;31m             \u001b[0mpacket_header\u001b[0m \u001b[0;34m=\u001b[0m \u001b[0mself\u001b[0m\u001b[0;34m.\u001b[0m\u001b[0m_read_bytes\u001b[0m\u001b[0;34m(\u001b[0m\u001b[0;36m4\u001b[0m\u001b[0;34m)\u001b[0m\u001b[0;34m\u001b[0m\u001b[0;34m\u001b[0m\u001b[0m\n\u001b[0m\u001b[1;32m    740\u001b[0m             \u001b[0;31m# if DEBUG: dump_packet(packet_header)\u001b[0m\u001b[0;34m\u001b[0m\u001b[0;34m\u001b[0m\u001b[0m\n\u001b[1;32m    741\u001b[0m \u001b[0;34m\u001b[0m\u001b[0m\n",
            "\u001b[0;32m/usr/local/lib/python3.10/dist-packages/pymysql/connections.py\u001b[0m in \u001b[0;36m_read_bytes\u001b[0;34m(self, num_bytes)\u001b[0m\n\u001b[1;32m    793\u001b[0m         \u001b[0;32mif\u001b[0m \u001b[0mlen\u001b[0m\u001b[0;34m(\u001b[0m\u001b[0mdata\u001b[0m\u001b[0;34m)\u001b[0m \u001b[0;34m<\u001b[0m \u001b[0mnum_bytes\u001b[0m\u001b[0;34m:\u001b[0m\u001b[0;34m\u001b[0m\u001b[0;34m\u001b[0m\u001b[0m\n\u001b[1;32m    794\u001b[0m             \u001b[0mself\u001b[0m\u001b[0;34m.\u001b[0m\u001b[0m_force_close\u001b[0m\u001b[0;34m(\u001b[0m\u001b[0;34m)\u001b[0m\u001b[0;34m\u001b[0m\u001b[0;34m\u001b[0m\u001b[0m\n\u001b[0;32m--> 795\u001b[0;31m             raise err.OperationalError(\n\u001b[0m\u001b[1;32m    796\u001b[0m                 \u001b[0mCR\u001b[0m\u001b[0;34m.\u001b[0m\u001b[0mCR_SERVER_LOST\u001b[0m\u001b[0;34m,\u001b[0m \u001b[0;34m\"Lost connection to MySQL server during query\"\u001b[0m\u001b[0;34m\u001b[0m\u001b[0;34m\u001b[0m\u001b[0m\n\u001b[1;32m    797\u001b[0m             )\n",
            "\u001b[0;31mOperationalError\u001b[0m: (2013, 'Lost connection to MySQL server during query')"
          ]
        }
      ],
      "source": [
        "# How many cases have been filed each year over the last ten years in each court?\n",
        "query =  \"\"\"\n",
        " SELECT\n",
        "    SUBSTRING(file_date, 1, 4) AS case_year,\n",
        "    wp_terms.name AS court,\n",
        "    COUNT(*) AS count\n",
        "FROM\n",
        "    cdocs_case_meta_index AS cdocs_meta\n",
        "        JOIN\n",
        "    wp_terms ON wp_terms.term_id = cdocs_meta.court_term_id -- joining court\n",
        "        JOIN\n",
        "    wp_term_taxonomy ON wp_term_taxonomy.term_id = cdocs_meta.court_term_id\n",
        "        JOIN\n",
        "    wp_terms t1 ON t1.term_id = wp_term_taxonomy.parent -- joining parent court\n",
        "        JOIN\n",
        "    cdocs_case_action_index action_idx ON action_idx.case_id = cdocs_meta.post_id\n",
        "WHERE\n",
        "    t1.name LIKE '%District%'\n",
        "    AND SUBSTRING(file_date, 1, 4) >= '2014'\n",
        "GROUP BY\n",
        "    SUBSTRING(file_date, 1, 4), wp_terms.name, t1.name\n",
        "ORDER BY\n",
        "    case_year ASC, count DESC;\n",
        "      \"\"\"\n",
        "\n",
        "%time\n",
        "cursor.execute(query) # executing query\n",
        "\n",
        "results = cursor.fetchall() # fetching result"
      ]
    },
    {
      "cell_type": "code",
      "execution_count": null,
      "metadata": {
        "id": "nfSsSZ1zPcfp"
      },
      "outputs": [],
      "source": [
        "case_per_court_by_year = pd.DataFrame(results)\n",
        "case_per_court_by_year.rename({0:'Year', 1:'Court',2:'Count'}, axis = 1)"
      ]
    },
    {
      "cell_type": "markdown",
      "metadata": {
        "id": "nlCtoqLhQT_C"
      },
      "source": [
        "# **TABLE 9: Organization And Methods**"
      ]
    },
    {
      "cell_type": "code",
      "execution_count": null,
      "metadata": {
        "id": "8Oq_V3DI3HVf"
      },
      "outputs": [],
      "source": [
        "import numpy as np\n",
        "import matplotlib.pyplot as plt\n",
        "\n",
        "\n",
        "def organize(x):\n",
        "  #Obtains the maximum/minimum year and an array filled with all years in between\n",
        "  min_y = int(x[1][0])\n",
        "  max_y = int(x[-1][0])\n",
        "  years_arr = np.linspace(min_y, max_y, (max_y - min_y + 1),dtype=int)\n",
        "  court_count = {}\n",
        "  for i in range(1,len(x)):\n",
        "    #iterates through the table\n",
        "    court = x[i][1]\n",
        "    index = abs((min_y - int(x[i][0])))\n",
        "    if court not in court_count:\n",
        "      #Creates a new dictionary reference with an arr len == years_arr\n",
        "      court_count[court] = ([-1] * len(years_arr))\n",
        "      court_count[court][index] = x[i][-1]\n",
        "    else:\n",
        "      #updates the existing dictionaries\n",
        "      court_count[court][index] = x[i][-1]\n",
        "  return years_arr, court_count\n",
        "\n",
        "def line_graph(years_arr, court_count):\n",
        "    # Plotting the data for each court\n",
        "    plt.figure(figsize=(20, 12))\n",
        "    for court, counts in court_count.items():\n",
        "      if(sum(counts)/len(counts)>2000):\n",
        "        plt.plot(years_arr, counts, marker='o', linestyle='-', label=court)\n",
        "\n",
        "    # Adding titles and labels\n",
        "    plt.title('Number of Cases Over The Years for Different Courts')\n",
        "    plt.xlabel('Year')\n",
        "    plt.ylabel('Number of Cases')\n",
        "\n",
        "    # Adding legend\n",
        "    plt.legend(loc='center left', bbox_to_anchor=(1, 0.5))\n",
        "\n",
        "    # Adding grid\n",
        "    plt.grid(True)\n",
        "\n",
        "    # Show plot\n",
        "    plt.savefig(\"Number_of_case_per_year.png\")\n",
        "    plt.show()"
      ]
    },
    {
      "cell_type": "code",
      "execution_count": null,
      "metadata": {
        "id": "dMM211SyT2-E"
      },
      "outputs": [],
      "source": [
        "years_arr, court_count = organize(results)\n",
        "line_graph(years_arr, court_count)"
      ]
    },
    {
      "cell_type": "markdown",
      "metadata": {
        "id": "fPOOivbvk28G"
      },
      "source": [
        "Note:\n",
        "Data is incomplete for 2024"
      ]
    },
    {
      "cell_type": "code",
      "execution_count": null,
      "metadata": {
        "id": "gKrTwzlRkqn5"
      },
      "outputs": [],
      "source": [
        "import matplotlib.pyplot as plt\n",
        "\n",
        "class Stat:\n",
        "    def __init__(self, years_arr, court_count):\n",
        "        self.years_arr = years_arr\n",
        "        self.court_count = court_count\n",
        "        self.limiter = 0\n",
        "\n",
        "    def total_cases(self):\n",
        "        total = sum(sum(counts) for counts in self.court_count.values())\n",
        "        return total\n",
        "\n",
        "    def most_cases_per_court_per_year(self):\n",
        "        most = {}\n",
        "        for y in range(len(self.years_arr)):\n",
        "            year = self.years_arr[y]\n",
        "            m = 0\n",
        "            year_i = abs(self.years_arr[0] - year)\n",
        "            court = \"\"\n",
        "\n",
        "            for key in self.court_count:\n",
        "                if self.court_count[key][year_i] > m:\n",
        "                    court = key\n",
        "                    m = self.court_count[key][year_i]\n",
        "            most[year] = [court, m]\n",
        "        return most\n",
        "\n",
        "    def print_most_cases_per_court_per_year(self):\n",
        "        # Call the method most_cases_per_court_per_year and prints the results\n",
        "        x = self.most_cases_per_court_per_year()\n",
        "        for key in x:\n",
        "            print(\"The most cases in\", str(key), \"is\", str(x[key][0]), \"with\", x[key][-1], \"cases\")\n",
        "            print()\n",
        "\n",
        "    def average_amount_cases_per_court(self):\n",
        "        average = {}\n",
        "        for key in self.court_count:\n",
        "            # Iterates through all the courts\n",
        "            avg = 0\n",
        "            for v in range(len(self.court_count[key])):\n",
        "                avg += self.court_count[key][v]\n",
        "            avg = int(avg/len(self.court_count[key]))\n",
        "            average[key] = avg\n",
        "        return average\n",
        "\n",
        "    def print_average_cases_per_court_per_year(self):\n",
        "        # Call the method most_cases_per_court_per_year and prints the results\n",
        "        x = self.average_amount_cases_per_court()\n",
        "        for key in x:\n",
        "            print(\"The average amount of cases in the last 10 years for\", str(key), \"is\", str(x[key]), \"cases\")\n",
        "            print()\n",
        "\n",
        "    def bar_graph_most(self, dic, title, x_axis, y_axis):\n",
        "        # Inputs a dic, title's for graph, x_axis and y_axis\n",
        "        x = list(dic.keys())\n",
        "        y = list(dic.values())\n",
        "        print(x)\n",
        "        print(y)\n",
        "        return 0\n",
        "\n",
        "    def bar_graph_average(self, data, title, x_axis, y_axis):\n",
        "        # Inputs a dic, title's for graph, x_axis and y_axis\n",
        "        years = list(data.keys())\n",
        "        x_axis =  list(data.keys())\n",
        "        y =  list(data.values())\n",
        "        return 0\n",
        "        # Plotting\n",
        "        plt.figure(figsize=(10, 6))\n",
        "        plt.bar(x, y)\n",
        "        plt.title(title)\n",
        "        plt.xlabel(x_axis)\n",
        "        plt.ylabel(y_axis)\n",
        "        plt.xticks(rotation=45, ha='right')\n",
        "        plt.tight_layout()\n",
        "        plt.show()\n",
        "\n",
        "\n",
        "    def bar_graph_most(self, dic, title, x_axis, y_axis):\n",
        "        # Extracting data\n",
        "        x = list(dic.keys())\n",
        "        y = list(dic.values())\n",
        "        label = [-1] * len(y)\n",
        "        colors = {}\n",
        "\n",
        "        # Extracting labels and values\n",
        "        for i in range(len(y)):\n",
        "            # Splitting up the tuples in dic.values\n",
        "            label[i] = y[i][0]\n",
        "            y[i] = y[i][-1]\n",
        "            # Assigning unique color for each label\n",
        "            if label[i] not in colors:\n",
        "                colors[label[i]] = plt.cm.tab10(len(colors))\n",
        "        # Plotting\n",
        "        plt.figure(figsize=(10, 6))\n",
        "        bars = plt.bar(x, y, color=[colors[l] for l in label])\n",
        "        plt.title(title)\n",
        "        plt.xlabel(x_axis)\n",
        "        plt.ylabel(y_axis)\n",
        "        plt.xticks(x, rotation=45, ha='right')  # Using years as x-axis labels\n",
        "        plt.tight_layout()\n",
        "\n",
        "        # Creating legend\n",
        "        legend_handles = [plt.Rectangle((0,0),1,1, color=colors[label]) for label in colors]\n",
        "        plt.legend(legend_handles, colors.keys())\n",
        "\n",
        "        # Show plot\n",
        "        plt.show()\n",
        "\n",
        "\n",
        "    def pie_chart_sum_total(self):\n",
        "        w = self.court_count\n",
        "        l = len(self.court_count)\n",
        "        k = [-1] * l\n",
        "        a = 0\n",
        "        for key in w:\n",
        "            k[a] = sum(w[key])\n",
        "            a += 1\n",
        "        labels = list(self.court_count.keys())\n",
        "        plt.figure(figsize=(12, 12))\n",
        "        plt.pie(k, labels=labels, autopct='%1.1f%%', startangle=90, textprops={'fontsize': 10})  # Adjust label fontsize\n",
        "        plt.axis('equal')\n",
        "        plt.title('Pie Chart of Total Cases by Court')\n",
        "        plt.legend(loc='best', fontsize='small', title='Courts', title_fontsize='small')  # Adjust legend fontsize\n",
        "        # Adding legend\n",
        "        plt.legend(loc='center left', bbox_to_anchor=(1.25, 0.5))\n",
        "\n",
        "        # Adding grid\n",
        "        plt.grid(True)\n",
        "        plt.show()\n",
        "\n",
        "    def total_case_per_year(self):\n",
        "      #returns an array that's length is equal to the range of years with the toal sum of cases\n",
        "      tyears = [0] * len(self.years_arr)\n",
        "      for i in range(len(self.years_arr)):\n",
        "        for k in self.court_count.keys():\n",
        "          if (self.court_count[k][i] > self.limiter):\n",
        "            if(tyears[i] == -1):\n",
        "              tyears[i] = self.court_count[k][i]\n",
        "            else:\n",
        "              tyears[i] += self.court_count[k][i]\n",
        "      return tyears\n",
        "\n",
        "    def pie_chart_year(self, year,filename):\n",
        "        minx = max(self.years_arr) - year\n",
        "        k = [-1] * len(self.court_count)\n",
        "        a = 0\n",
        "        s = 0\n",
        "        for i in self.court_count:\n",
        "            k[a] = self.court_count[i][minx]\n",
        "            a += 1\n",
        "            s += self.court_count[i][minx]\n",
        "        labels = list(self.court_count.keys())\n",
        "        median = s / len(k)  # Calculate the median\n",
        "        llabels = []\n",
        "        percentages = []\n",
        "        limiter = .015  # Adjust as needed\n",
        "        for i in range(len(k)):\n",
        "            if k[i] > median:\n",
        "                llabels.append(labels[i])\n",
        "                percentages.append(k[i]/s)\n",
        "        plt.figure(figsize=(8, 8))\n",
        "        plt.pie(percentages, labels=llabels, autopct='%1.1f%%')\n",
        "        plt.title(f'Number of Court Cases by District above the median number of cases in {year}')\n",
        "        try:\n",
        "          plt.savefig(filename)\n",
        "          plt.close()\n",
        "          print(f'Pie chart saved as {filename}')\n",
        "        except Exception as e:\n",
        "          print(f'Error saving pie chart: {e}')\n",
        "\n"
      ]
    },
    {
      "cell_type": "code",
      "execution_count": null,
      "metadata": {
        "id": "QR9T4MHno3hg"
      },
      "outputs": [],
      "source": [
        "# Execute\n",
        "years_arr, court_count = organize(results)\n",
        "# Creating an instance of the Stat class\n",
        "statistics = Stat(years_arr, court_count)\n",
        "\n",
        "print(statistics.total_case_per_year())"
      ]
    },
    {
      "cell_type": "code",
      "execution_count": null,
      "metadata": {
        "id": "loTHmLpr4IK0"
      },
      "outputs": [],
      "source": [
        "#To Save plt\n",
        "#statistics.pie_chart_year(2022,'pie_chart_year2018.png')"
      ]
    },
    {
      "cell_type": "code",
      "execution_count": null,
      "metadata": {
        "id": "gCg_MGtJqjnC"
      },
      "outputs": [],
      "source": [
        "# Getting total cases in the last 10 years\n",
        "total_cases = statistics.total_cases()\n",
        "print(\"There was a total of\", str(total_cases), \"cases in the last ten years\")\n",
        "print()\n",
        "\n",
        "# Graphs\n",
        "# Most cases per year\n",
        "title = \"The most amount of cases per year by court\"\n",
        "x_axis = \"Year\"\n",
        "y_axis = \"Number of Cases\"\n",
        "\n",
        "\n",
        "\n",
        "statistics.bar_graph_most(statistics.most_cases_per_court_per_year(),title,x_axis,y_axis)\n",
        "\n",
        "# Average amount of cases\n",
        "title2 = \"Average amount of cases over the last ten years\"\n",
        "x_axis2 = \"Court\"\n",
        "y_axis2 = \"Average Number of Cases\"\n",
        "\n",
        "\n",
        "#Finish at a later date\n",
        "#statistics.bar_graph_average(statistics.average_amount_cases_per_court(),title2,x_axis2,y_axis2)\n",
        "\n",
        "# Sum total of cases\n",
        "statistics.pie_chart_sum_total()\n",
        "\n",
        "\n",
        "\n",
        "# Prints()\n",
        "  # Average case number over the last ten y\n",
        "# statistics.print_average_cases_per_court_per_year()\n",
        "\n",
        "  # Most in the last ten years\n",
        "# statistics.print_most_cases_per_court_per_year()\n"
      ]
    },
    {
      "cell_type": "markdown",
      "metadata": {
        "id": "_pdETylsPAtB"
      },
      "source": [
        "# **Table 10: Pro Se Cases by Courts**"
      ]
    },
    {
      "cell_type": "code",
      "execution_count": null,
      "metadata": {
        "id": "M23VNKL9O8mF",
        "colab": {
          "base_uri": "https://localhost:8080/"
        },
        "outputId": "53ca208b-235a-48e4-dbc9-6ccc4462dd2e"
      },
      "outputs": [
        {
          "output_type": "stream",
          "name": "stdout",
          "text": [
            "CPU times: user 4 µs, sys: 0 ns, total: 4 µs\n",
            "Wall time: 7.15 µs\n"
          ]
        }
      ],
      "source": [
        "\n",
        "# caseload by attorneys, case type, and count for all cases\n",
        "query = \"\"\"\n",
        "SELECT\n",
        "    case_number,\n",
        "    SUBSTRING(cdocs_meta.file_date, 1, 4) AS case_year,\n",
        "    wp_posts.post_title AS attorney,\n",
        "    wp_terms.name AS court\n",
        "FROM\n",
        "    cdocs_case_meta_index AS cdocs_meta\n",
        "    JOIN wp_terms ON wp_terms.term_id = cdocs_meta.court_term_id\n",
        "    JOIN wp_term_taxonomy ON wp_term_taxonomy.term_id = cdocs_meta.court_term_id\n",
        "    JOIN wp_terms AS t1 ON t1.term_id = wp_term_taxonomy.parent\n",
        "    JOIN cdocs_party_assignment_index ON cdocs_party_assignment_index.case_id = cdocs_meta.post_id\n",
        "    JOIN wp_posts ON wp_posts.id = cdocs_party_assignment_index.attorney_id\n",
        "WHERE\n",
        "    wp_posts.post_type = 'Attorney'\n",
        "    AND wp_posts.post_title LIKE '%Pro %'\n",
        "    AND SUBSTRING(cdocs_meta.file_date, 1, 4) >= '2014'\n",
        "GROUP BY\n",
        "    wp_posts.post_title, wp_terms.name, SUBSTRING(cdocs_meta.file_date, 1, 4), case_number\n",
        "ORDER BY\n",
        "    SUBSTRING(cdocs_meta.file_date, 1, 4) ASC;\n",
        "\"\"\"\n",
        "\n",
        "#Attorney Id is not made by the stuff\n",
        "\n",
        "%time\n",
        "\n",
        "cursor.execute(query)  # executing query\n",
        "\n",
        "results2 = cursor.fetchall()  # fetching result"
      ]
    },
    {
      "cell_type": "code",
      "execution_count": null,
      "metadata": {
        "id": "MF5r9JYPSmy7",
        "colab": {
          "base_uri": "https://localhost:8080/"
        },
        "outputId": "bffe8b28-55ba-4aa9-91ef-3e73ef0feb38"
      },
      "outputs": [
        {
          "output_type": "execute_result",
          "data": {
            "text/plain": [
              "285963"
            ]
          },
          "metadata": {},
          "execution_count": 17
        }
      ],
      "source": [
        "table_10= pd.DataFrame (results2)\n",
        "table_10 = table_10.rename({0:'Case Number', 1:'Year', 2:'Attorney',3:'Court',4:'Count'}, axis = 1)\n",
        "table_10['Case Number'].nunique()"
      ]
    },
    {
      "cell_type": "code",
      "execution_count": null,
      "metadata": {
        "id": "Rq5sK6hZRPSW"
      },
      "outputs": [],
      "source": [
        "import pandas as pd\n",
        "\n",
        "unique_default_cases = table_10['Case Number'].unique()\n",
        "# Filter the DataFrame to include only rows with unique case numbers\n",
        "unique_cases_deftault = table_10[table_10['Case Number'].isin(unique_default_cases)]\n",
        "unique_cases_deftault"
      ]
    },
    {
      "cell_type": "code",
      "execution_count": null,
      "metadata": {
        "id": "XJd9FF23SHbx"
      },
      "outputs": [],
      "source": [
        "\n",
        "unique_case_numbers_prose = unique_cases_prose['Case Number'].nunique()\n",
        "print(\"Total Pro Se Debt Collection Cases:\", unique_case_numbers_prose)"
      ]
    },
    {
      "cell_type": "markdown",
      "metadata": {
        "id": "f-HSzP-nVNEz"
      },
      "source": [
        "# **Table 10 Organization And Methods**"
      ]
    },
    {
      "cell_type": "code",
      "execution_count": null,
      "metadata": {
        "id": "_sjGfALVU-qJ"
      },
      "outputs": [],
      "source": [
        "import numpy as np\n",
        "import matplotlib.pyplot as plt\n",
        "\n",
        "def Table_10_organzize(x):\n",
        "  #Takes In Table 10 and creates a dictionary based on location,\n",
        "  #in which the length of the array stored is the years\n",
        "\n",
        "  #Obtains the maximum/minimum year and an array filled with all years in between\n",
        "  min_y = int(x[1][0])\n",
        "  max_y = int(x[-1][0])\n",
        "  years_arr = np.linspace(min_y, max_y, (max_y - min_y + 1),dtype=int)\n",
        "  court_count = {}\n",
        "  for i in range(1,len(x)):\n",
        "    #iterates through the table\n",
        "    court = x[i][2]\n",
        "    index = abs((min_y - int(x[i][0])))\n",
        "    if court not in court_count:\n",
        "      #Creates a new dictionary reference with an arr len == years_arr\n",
        "      court_count[court] = ([-1] * len(years_arr))\n",
        "      court_count[court][index] = x[i][-1]\n",
        "    else:\n",
        "      #updates the existing dictionaries\n",
        "      court_count[court][index] = x[i][-1]\n",
        "  return years_arr, court_count\n",
        "\n",
        "\n",
        "\n",
        "\n",
        "def Table10_comparison(Table10,Other,Limit):\n",
        "  #Takes in two tables and creates a bar graph to represent difference over time\n",
        "  #Limit is ant integer that will not add anything below to the comparison chart\n",
        "  #Returns a bar graph in which Table 10 is orange and other table is blue\n",
        "  years_arr, court_count = Table_10_organzize(results2)\n",
        "  Oyears, Ocourt = organize(results)\n",
        "  if(Limit <= 0):\n",
        "    #Make sure the limit is set to zero so it doesn't include\n",
        "    Limit = 0\n",
        "  plt.figure(figsize=(20, 12))\n",
        "  return 0\n",
        "\n",
        "\n",
        "\n",
        "def Table10_total_comparison(years,court,Limit):\n",
        "  #Takes in two tables and creates a bar graph to represent difference over time\n",
        "  #Limit is ant integer that will not add anything below to the comparison chart\n",
        "  #Returns a bar graph in which Table 10 is orange and other table is blue\n",
        "  tyears = [-1] * len(years)\n",
        "  for i in range(len(years)):\n",
        "        for k in court.keys():\n",
        "          if (court[k][i] > Limit):\n",
        "            if(tyears[i] == -1):\n",
        "              tyears[i] = court[k][i]\n",
        "            else:\n",
        "              tyears[i] += court[k][i]\n",
        "  return tyears\n",
        "\n",
        "def Table10_total_comparison_graph(x, other, years, filename,title = 'Total Cases vs Pro Se Cases', x_axis='Year', y_axis='Cases'):\n",
        "    # Check if the lengths of x, other, and years are the same\n",
        "    if len(x) != len(other) or len(x) != len(years):\n",
        "        print(\"Length mismatch between arrays\")\n",
        "        return\n",
        "\n",
        "    # Define colors for x and other bars\n",
        "    colors = {'x': 'orange', 'other': 'blue'}\n",
        "\n",
        "    plt.figure(figsize=(10, 6))\n",
        "\n",
        "    # Define the width of each bar\n",
        "    bar_width = 0.35\n",
        "\n",
        "    # Calculate the position of the bars for x and other\n",
        "    x_positions = np.arange(len(years))\n",
        "\n",
        "    # Plot bars for x\n",
        "    plt.bar(x_positions, x, width=bar_width, color=colors['x'], label='Pro Se')\n",
        "\n",
        "    # Plot bars for other, starting from the right side of x bars\n",
        "    plt.bar(x_positions + bar_width, other, width=bar_width, color=colors['other'], label='Total Cases')\n",
        "\n",
        "    plt.title(title)\n",
        "    plt.xlabel(x_axis)\n",
        "    plt.ylabel(y_axis)\n",
        "    plt.xticks(x_positions + bar_width / 2, years)  # Adjust x-axis ticks\n",
        "    plt.legend()  # Show legend\n",
        "\n",
        "    plt.tight_layout()\n",
        "    plt.savefig(filename)\n",
        "    plt.show()"
      ]
    },
    {
      "cell_type": "code",
      "execution_count": null,
      "metadata": {
        "id": "T4EOkCZtV8Nw"
      },
      "outputs": [],
      "source": [
        "#Execution\n",
        "years_arr2, court_count2 = Table_10_organzize(results2)\n",
        "\n",
        "#print(Table10_total_comparison(years_arr2,court_count2,0))\n",
        "\n",
        "x = Table10_total_comparison(years_arr2,court_count2,0)\n",
        "y = statistics.total_case_per_year()\n",
        "\n",
        "\n",
        "print(sum(x))\n",
        "print(x)\n",
        "print(max(x))\n",
        "\n",
        "\n",
        "Table10_total_comparison_graph(x,y,years_arr2,'Totalcases_vs_Pro_Se.png')\n"
      ]
    },
    {
      "cell_type": "markdown",
      "source": [
        "# **TABLE 11 Debt Cases in the last 10 years**\n"
      ],
      "metadata": {
        "id": "1eJ2a30-5Y8M"
      }
    },
    {
      "cell_type": "code",
      "source": [
        "# How many cases have been filed each year over the last ten years in each court?\n",
        "query =  \"\"\"\n",
        " SELECT\n",
        "    SUBSTRING(file_date, 1, 4) AS case_year,\n",
        "    wp_terms.name AS court,\n",
        "    COUNT(*) AS count\n",
        "FROM\n",
        "    cdocs_case_meta_index AS cdocs_meta\n",
        "        JOIN\n",
        "    wp_terms ON wp_terms.term_id = cdocs_meta.court_term_id -- joining court\n",
        "        JOIN\n",
        "    wp_term_taxonomy ON wp_term_taxonomy.term_id = cdocs_meta.court_term_id\n",
        "        JOIN\n",
        "    wp_terms t1 ON t1.term_id = wp_term_taxonomy.parent -- joining parent court\n",
        "        JOIN\n",
        "    cdocs_case_action_index action_idx ON action_idx.case_id = cdocs_meta.post_id\n",
        "WHERE\n",
        "    t1.name LIKE '%District%'\n",
        "    AND SUBSTRING(file_date, 1, 4) >= '2014'\n",
        "    AND action_idx.description LIKE '%debt%'\n",
        "GROUP BY\n",
        "    SUBSTRING(file_date, 1, 4), wp_terms.name, t1.name\n",
        "ORDER BY\n",
        "    case_year ASC, count DESC;\n",
        "LIMIT 100\n",
        "      \"\"\"\n",
        "\n",
        "%time\n",
        "cursor.execute(query) # executing query\n",
        "\n",
        "results = cursor.fetchall() # fetching result"
      ],
      "metadata": {
        "colab": {
          "base_uri": "https://localhost:8080/",
          "height": 374
        },
        "id": "2npprCVP5VwT",
        "outputId": "4b2b3d29-9730-4a87-ca2b-2017de755e00"
      },
      "execution_count": null,
      "outputs": [
        {
          "output_type": "stream",
          "name": "stdout",
          "text": [
            "CPU times: user 5 µs, sys: 0 ns, total: 5 µs\n",
            "Wall time: 8.58 µs\n"
          ]
        },
        {
          "output_type": "error",
          "ename": "InterfaceError",
          "evalue": "(0, '')",
          "traceback": [
            "\u001b[0;31m---------------------------------------------------------------------------\u001b[0m",
            "\u001b[0;31mInterfaceError\u001b[0m                            Traceback (most recent call last)",
            "\u001b[0;32m<ipython-input-22-a18a0f4395e3>\u001b[0m in \u001b[0;36m<cell line: 29>\u001b[0;34m()\u001b[0m\n\u001b[1;32m     27\u001b[0m \u001b[0;34m\u001b[0m\u001b[0m\n\u001b[1;32m     28\u001b[0m \u001b[0mget_ipython\u001b[0m\u001b[0;34m(\u001b[0m\u001b[0;34m)\u001b[0m\u001b[0;34m.\u001b[0m\u001b[0mrun_line_magic\u001b[0m\u001b[0;34m(\u001b[0m\u001b[0;34m'time'\u001b[0m\u001b[0;34m,\u001b[0m \u001b[0;34m''\u001b[0m\u001b[0;34m)\u001b[0m\u001b[0;34m\u001b[0m\u001b[0;34m\u001b[0m\u001b[0m\n\u001b[0;32m---> 29\u001b[0;31m \u001b[0mcursor\u001b[0m\u001b[0;34m.\u001b[0m\u001b[0mexecute\u001b[0m\u001b[0;34m(\u001b[0m\u001b[0mquery\u001b[0m\u001b[0;34m)\u001b[0m \u001b[0;31m# executing query\u001b[0m\u001b[0;34m\u001b[0m\u001b[0;34m\u001b[0m\u001b[0m\n\u001b[0m\u001b[1;32m     30\u001b[0m \u001b[0;34m\u001b[0m\u001b[0m\n\u001b[1;32m     31\u001b[0m \u001b[0mresults\u001b[0m \u001b[0;34m=\u001b[0m \u001b[0mcursor\u001b[0m\u001b[0;34m.\u001b[0m\u001b[0mfetchall\u001b[0m\u001b[0;34m(\u001b[0m\u001b[0;34m)\u001b[0m \u001b[0;31m# fetching result\u001b[0m\u001b[0;34m\u001b[0m\u001b[0;34m\u001b[0m\u001b[0m\n",
            "\u001b[0;32m/usr/local/lib/python3.10/dist-packages/pymysql/cursors.py\u001b[0m in \u001b[0;36mexecute\u001b[0;34m(self, query, args)\u001b[0m\n\u001b[1;32m    151\u001b[0m         \u001b[0mquery\u001b[0m \u001b[0;34m=\u001b[0m \u001b[0mself\u001b[0m\u001b[0;34m.\u001b[0m\u001b[0mmogrify\u001b[0m\u001b[0;34m(\u001b[0m\u001b[0mquery\u001b[0m\u001b[0;34m,\u001b[0m \u001b[0margs\u001b[0m\u001b[0;34m)\u001b[0m\u001b[0;34m\u001b[0m\u001b[0;34m\u001b[0m\u001b[0m\n\u001b[1;32m    152\u001b[0m \u001b[0;34m\u001b[0m\u001b[0m\n\u001b[0;32m--> 153\u001b[0;31m         \u001b[0mresult\u001b[0m \u001b[0;34m=\u001b[0m \u001b[0mself\u001b[0m\u001b[0;34m.\u001b[0m\u001b[0m_query\u001b[0m\u001b[0;34m(\u001b[0m\u001b[0mquery\u001b[0m\u001b[0;34m)\u001b[0m\u001b[0;34m\u001b[0m\u001b[0;34m\u001b[0m\u001b[0m\n\u001b[0m\u001b[1;32m    154\u001b[0m         \u001b[0mself\u001b[0m\u001b[0;34m.\u001b[0m\u001b[0m_executed\u001b[0m \u001b[0;34m=\u001b[0m \u001b[0mquery\u001b[0m\u001b[0;34m\u001b[0m\u001b[0;34m\u001b[0m\u001b[0m\n\u001b[1;32m    155\u001b[0m         \u001b[0;32mreturn\u001b[0m \u001b[0mresult\u001b[0m\u001b[0;34m\u001b[0m\u001b[0;34m\u001b[0m\u001b[0m\n",
            "\u001b[0;32m/usr/local/lib/python3.10/dist-packages/pymysql/cursors.py\u001b[0m in \u001b[0;36m_query\u001b[0;34m(self, q)\u001b[0m\n\u001b[1;32m    320\u001b[0m         \u001b[0mconn\u001b[0m \u001b[0;34m=\u001b[0m \u001b[0mself\u001b[0m\u001b[0;34m.\u001b[0m\u001b[0m_get_db\u001b[0m\u001b[0;34m(\u001b[0m\u001b[0;34m)\u001b[0m\u001b[0;34m\u001b[0m\u001b[0;34m\u001b[0m\u001b[0m\n\u001b[1;32m    321\u001b[0m         \u001b[0mself\u001b[0m\u001b[0;34m.\u001b[0m\u001b[0m_clear_result\u001b[0m\u001b[0;34m(\u001b[0m\u001b[0;34m)\u001b[0m\u001b[0;34m\u001b[0m\u001b[0;34m\u001b[0m\u001b[0m\n\u001b[0;32m--> 322\u001b[0;31m         \u001b[0mconn\u001b[0m\u001b[0;34m.\u001b[0m\u001b[0mquery\u001b[0m\u001b[0;34m(\u001b[0m\u001b[0mq\u001b[0m\u001b[0;34m)\u001b[0m\u001b[0;34m\u001b[0m\u001b[0;34m\u001b[0m\u001b[0m\n\u001b[0m\u001b[1;32m    323\u001b[0m         \u001b[0mself\u001b[0m\u001b[0;34m.\u001b[0m\u001b[0m_do_get_result\u001b[0m\u001b[0;34m(\u001b[0m\u001b[0;34m)\u001b[0m\u001b[0;34m\u001b[0m\u001b[0;34m\u001b[0m\u001b[0m\n\u001b[1;32m    324\u001b[0m         \u001b[0;32mreturn\u001b[0m \u001b[0mself\u001b[0m\u001b[0;34m.\u001b[0m\u001b[0mrowcount\u001b[0m\u001b[0;34m\u001b[0m\u001b[0;34m\u001b[0m\u001b[0m\n",
            "\u001b[0;32m/usr/local/lib/python3.10/dist-packages/pymysql/connections.py\u001b[0m in \u001b[0;36mquery\u001b[0;34m(self, sql, unbuffered)\u001b[0m\n\u001b[1;32m    555\u001b[0m         \u001b[0;32mif\u001b[0m \u001b[0misinstance\u001b[0m\u001b[0;34m(\u001b[0m\u001b[0msql\u001b[0m\u001b[0;34m,\u001b[0m \u001b[0mstr\u001b[0m\u001b[0;34m)\u001b[0m\u001b[0;34m:\u001b[0m\u001b[0;34m\u001b[0m\u001b[0;34m\u001b[0m\u001b[0m\n\u001b[1;32m    556\u001b[0m             \u001b[0msql\u001b[0m \u001b[0;34m=\u001b[0m \u001b[0msql\u001b[0m\u001b[0;34m.\u001b[0m\u001b[0mencode\u001b[0m\u001b[0;34m(\u001b[0m\u001b[0mself\u001b[0m\u001b[0;34m.\u001b[0m\u001b[0mencoding\u001b[0m\u001b[0;34m,\u001b[0m \u001b[0;34m\"surrogateescape\"\u001b[0m\u001b[0;34m)\u001b[0m\u001b[0;34m\u001b[0m\u001b[0;34m\u001b[0m\u001b[0m\n\u001b[0;32m--> 557\u001b[0;31m         \u001b[0mself\u001b[0m\u001b[0;34m.\u001b[0m\u001b[0m_execute_command\u001b[0m\u001b[0;34m(\u001b[0m\u001b[0mCOMMAND\u001b[0m\u001b[0;34m.\u001b[0m\u001b[0mCOM_QUERY\u001b[0m\u001b[0;34m,\u001b[0m \u001b[0msql\u001b[0m\u001b[0;34m)\u001b[0m\u001b[0;34m\u001b[0m\u001b[0;34m\u001b[0m\u001b[0m\n\u001b[0m\u001b[1;32m    558\u001b[0m         \u001b[0mself\u001b[0m\u001b[0;34m.\u001b[0m\u001b[0m_affected_rows\u001b[0m \u001b[0;34m=\u001b[0m \u001b[0mself\u001b[0m\u001b[0;34m.\u001b[0m\u001b[0m_read_query_result\u001b[0m\u001b[0;34m(\u001b[0m\u001b[0munbuffered\u001b[0m\u001b[0;34m=\u001b[0m\u001b[0munbuffered\u001b[0m\u001b[0;34m)\u001b[0m\u001b[0;34m\u001b[0m\u001b[0;34m\u001b[0m\u001b[0m\n\u001b[1;32m    559\u001b[0m         \u001b[0;32mreturn\u001b[0m \u001b[0mself\u001b[0m\u001b[0;34m.\u001b[0m\u001b[0m_affected_rows\u001b[0m\u001b[0;34m\u001b[0m\u001b[0;34m\u001b[0m\u001b[0m\n",
            "\u001b[0;32m/usr/local/lib/python3.10/dist-packages/pymysql/connections.py\u001b[0m in \u001b[0;36m_execute_command\u001b[0;34m(self, command, sql)\u001b[0m\n\u001b[1;32m    838\u001b[0m         \"\"\"\n\u001b[1;32m    839\u001b[0m         \u001b[0;32mif\u001b[0m \u001b[0;32mnot\u001b[0m \u001b[0mself\u001b[0m\u001b[0;34m.\u001b[0m\u001b[0m_sock\u001b[0m\u001b[0;34m:\u001b[0m\u001b[0;34m\u001b[0m\u001b[0;34m\u001b[0m\u001b[0m\n\u001b[0;32m--> 840\u001b[0;31m             \u001b[0;32mraise\u001b[0m \u001b[0merr\u001b[0m\u001b[0;34m.\u001b[0m\u001b[0mInterfaceError\u001b[0m\u001b[0;34m(\u001b[0m\u001b[0;36m0\u001b[0m\u001b[0;34m,\u001b[0m \u001b[0;34m\"\"\u001b[0m\u001b[0;34m)\u001b[0m\u001b[0;34m\u001b[0m\u001b[0;34m\u001b[0m\u001b[0m\n\u001b[0m\u001b[1;32m    841\u001b[0m \u001b[0;34m\u001b[0m\u001b[0m\n\u001b[1;32m    842\u001b[0m         \u001b[0;31m# If the last query was unbuffered, make sure it finishes before\u001b[0m\u001b[0;34m\u001b[0m\u001b[0;34m\u001b[0m\u001b[0m\n",
            "\u001b[0;31mInterfaceError\u001b[0m: (0, '')"
          ]
        }
      ]
    },
    {
      "cell_type": "code",
      "source": [
        "debt_cases = pd.DataFrame(results)\n",
        "debt_cases.rename({0:'Year', 1:'Court',2:'Count'}, axis = 1)"
      ],
      "metadata": {
        "id": "vFz8BxVq5V_J"
      },
      "execution_count": null,
      "outputs": []
    },
    {
      "cell_type": "markdown",
      "source": [
        "Cross Referencing with case_claims.csv"
      ],
      "metadata": {
        "id": "kbMVjd_PsKJ6"
      }
    },
    {
      "cell_type": "code",
      "source": [
        "import pandas as pd\n",
        "\n",
        "case_claims = pd.read_csv('/content/drive/MyDrive/Colab Notebooks/CS506/Project/data/case_claims.csv',usecols= ['case_number'])\n",
        "print(case_claims)"
      ],
      "metadata": {
        "id": "TVoeI2mtfLCg"
      },
      "execution_count": null,
      "outputs": []
    },
    {
      "cell_type": "code",
      "source": [
        "query =  \"\"\"\n",
        " SELECT\n",
        "    cdocs_meta.case_number,\n",
        "    SUBSTRING(file_date, 1, 4) AS case_year,\n",
        "    wp_terms.name AS court,\n",
        "    COUNT(*) AS count\n",
        "FROM\n",
        "    cdocs_case_meta_index AS cdocs_meta\n",
        "        JOIN\n",
        "    wp_terms ON wp_terms.term_id = cdocs_meta.court_term_id -- joining court\n",
        "        JOIN\n",
        "    wp_term_taxonomy ON wp_term_taxonomy.term_id = cdocs_meta.court_term_id\n",
        "        JOIN\n",
        "    wp_terms t1 ON t1.term_id = wp_term_taxonomy.parent -- joining parent court\n",
        "        JOIN\n",
        "    cdocs_case_action_index action_idx ON action_idx.case_id = cdocs_meta.post_id\n",
        "WHERE\n",
        "    t1.name LIKE '%District%'\n",
        "    AND SUBSTRING(file_date, 1, 4) >= '2014'\n",
        "      \"\"\"\n",
        "\n",
        "%time\n",
        "cursor.execute(query) # executing query\n",
        "\n",
        "results3 = cursor.fetchall() # fetching result"
      ],
      "metadata": {
        "colab": {
          "base_uri": "https://localhost:8080/"
        },
        "id": "0K-IEZYeuX6A",
        "outputId": "09134a5d-56b4-44e0-dcb3-28bf2c476227"
      },
      "execution_count": null,
      "outputs": [
        {
          "output_type": "stream",
          "name": "stdout",
          "text": [
            "CPU times: user 3 µs, sys: 0 ns, total: 3 µs\n",
            "Wall time: 5.48 µs\n"
          ]
        }
      ]
    },
    {
      "cell_type": "code",
      "source": [
        "table_11= pd.DataFrame (results3)\n",
        "table_11 = table_10.rename({0:'Case Number', 1:'Year', 2:'Court',4:'Count'}, axis = 1)\n",
        "print(table_11)"
      ],
      "metadata": {
        "colab": {
          "base_uri": "https://localhost:8080/"
        },
        "id": "3jp0B-jk9Crv",
        "outputId": "c581f181-813d-4832-da92-b41758db2242"
      },
      "execution_count": null,
      "outputs": [
        {
          "output_type": "stream",
          "name": "stdout",
          "text": [
            "          Case Number  Year         Attorney             Court\n",
            "0         BE14P0454EA  2014  Pro Se (PROPER)  Berkshire County\n",
            "1         BE14P0359EA  2014  Pro Se (PROPER)  Berkshire County\n",
            "2       14H79CV000333  2014  Pro Se (PROPER)           Western\n",
            "3       14H79CV000335  2014  Pro Se (PROPER)           Western\n",
            "4       14H79CV000336  2014  Pro Se (PROPER)           Western\n",
            "...               ...   ...              ...               ...\n",
            "285958    BR24D0498JP  2024           Pro Se    Bristol County\n",
            "285959    BR24D0499JP  2024           Pro Se    Bristol County\n",
            "285960    BR24P0949EA  2024           Pro Se    Bristol County\n",
            "285961  24H79SP001674  2024           Pro Se           Western\n",
            "285962   2460CV000125  2024           Pro Se           Wareham\n",
            "\n",
            "[285963 rows x 4 columns]\n"
          ]
        }
      ]
    },
    {
      "cell_type": "code",
      "source": [],
      "metadata": {
        "id": "vlxo-Tsc-yYb"
      },
      "execution_count": null,
      "outputs": []
    },
    {
      "cell_type": "markdown",
      "metadata": {
        "id": "kRXBTWLJ6Gff"
      },
      "source": [
        "#**Close Connection MYSQL server**"
      ]
    },
    {
      "cell_type": "code",
      "execution_count": null,
      "metadata": {
        "id": "Vc7XB179Zazo"
      },
      "outputs": [],
      "source": [
        "cursor.close() # closing connection to MySQL server\n",
        "\n",
        "cnx.close() # closing connection to MySQL server"
      ]
    }
  ],
  "metadata": {
    "colab": {
      "collapsed_sections": [
        "1Z8INOu6xe7h",
        "4B2QXwNDx22O",
        "m83qFcvhx-KT",
        "AoDKXBNtyGPQ",
        "Bt_jVPVnySOz",
        "1YETaJwEyYrL",
        "xn1RpeBTyviJ",
        "VfcXdiq4y2fH"
      ],
      "gpuType": "T4",
      "provenance": []
    },
    "kernelspec": {
      "display_name": "Python 3",
      "name": "python3"
    },
    "language_info": {
      "name": "python"
    }
  },
  "nbformat": 4,
  "nbformat_minor": 0
}